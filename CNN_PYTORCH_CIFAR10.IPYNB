{
 "cells": [
  {
   "cell_type": "markdown",
   "id": "6b2e211b",
   "metadata": {},
   "source": [
    "LOAD LIBRARIES\n"
   ]
  },
  {
   "cell_type": "code",
   "execution_count": null,
   "id": "4ec9b727",
   "metadata": {},
   "outputs": [
    {
     "ename": "",
     "evalue": "",
     "output_type": "error",
     "traceback": [
      "\u001b[1;31mRunning cells with 'venv (Python 3.12.4)' requires the ipykernel package.\n",
      "\u001b[1;31mInstall 'ipykernel' into the Python environment. \n",
      "\u001b[1;31mCommand: '\"c:/Users/SRI LAXMI DOCUMENT/Desktop/rishi/DL-lab/venv/Scripts/python.exe\" -m pip install ipykernel -U --force-reinstall'"
     ]
    }
   ],
   "source": [
    "import torch \n",
    "import torch.nn as nn \n",
    "from torchvision import datasets \n",
    "from torch.utils.data import DataLoader"
   ]
  }
 ],
 "metadata": {
  "kernelspec": {
   "display_name": "venv",
   "language": "python",
   "name": "python3"
  },
  "language_info": {
   "name": "python",
   "version": "3.12.4"
  }
 },
 "nbformat": 4,
 "nbformat_minor": 5
}
